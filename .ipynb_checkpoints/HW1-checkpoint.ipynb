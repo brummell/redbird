{
 "metadata": {
  "name": ""
 },
 "nbformat": 3,
 "nbformat_minor": 0,
 "worksheets": [
  {
   "cells": [
    {
     "cell_type": "code",
     "collapsed": false,
     "input": [
      "import QSTK.qstkutil.qsdateutil as du\n",
      "import QSTK.qstkutil.tsutil as tsu\n",
      "import QSTK.qstkutil.DataAccess as da\n",
      "import itertools\n",
      "\n",
      "import datetime as dt\n",
      "import matplotlib.pyplot as plt\n",
      "import pandas as pd\n",
      "import numpy as np\n",
      "from pprint import pprint"
     ],
     "language": "python",
     "metadata": {},
     "outputs": []
    },
    {
     "cell_type": "raw",
     "metadata": {},
     "source": [
      "We'll be using historical adjusted close data. QSTK has a DataAccess class designed to quickly read this data into pandas DataFrame object. We must first select which symbols we're interested in, and for which time periods."
     ]
    },
    {
     "cell_type": "code",
     "collapsed": false,
     "input": [
      "def basic_simulation(ls_symbols, dt_start, dt_end, allocations=[0.0, 0.0, 0.0, 1.0]):\n",
      "    dt_timeofday = dt.timedelta(hours=16)\n",
      "    ldt_timestamps = du.getNYSEdays(dt_start, dt_end, dt_timeofday)\n",
      "\n",
      "    c_dataobj = da.DataAccess('Yahoo')\n",
      "    ls_keys = ['open', 'high', 'low', 'close', 'volume', 'actual_close']\n",
      "    ldf_data = c_dataobj.get_data(ldt_timestamps, ls_symbols, ls_keys)\n",
      "    \n",
      "    d_data = dict(zip(ls_keys, ldf_data))\n",
      "    \n",
      "    #cut out only closing prices from dict\n",
      "    na_price = d_data['close'].values\n",
      "    \n",
      "    #normalize the prices against GOOG, as it's considerably higher than the others\n",
      "    na_normalized_price = na_price / na_price[0, :]\n",
      "    \n",
      "    # The general equation for daily return on day t is: ret(t) = (price(t)/price(t-1)) -1\n",
      "    # We can compute this in Python all at once as using returnize0\n",
      "    na_rets = na_normalized_price.copy()\n",
      "    daily_rets = tsu.returnize0(na_rets)\n",
      "\n",
      "    #generate total daily return for portfolio given allocations (sum across n=2-axis)\n",
      "    daily_rets = np.sum(daily_rets * allocations, 1)\n",
      "    \n",
      "    #portfolio-wide stats\n",
      "    mean_daily_ret = np.mean(daily_rets, 0)\n",
      "    std_daily_ret = np.std(daily_rets, 0)\n",
      "    cum_daily_ret = np.sum(daily_rets, 0)\n",
      "    sharpe_ratio = mean_daily_ret/std_daily_ret\n",
      "    \n",
      "    return {\n",
      "        'Start Date': dt_start,\n",
      "        'End Date': dt_end,\n",
      "        'Symbols': ls_symbols, \n",
      "        'Optimal Allocations': allocations,\n",
      "        'Sharpe Ratio': sharpe_ratio*np.sqrt(252),\n",
      "        'Volatility': std_daily_ret,\n",
      "        'Average Daily Return': mean_daily_ret,\n",
      "        'Cumulative Return': 1 + cum_daily_ret\n",
      "    }"
     ],
     "language": "python",
     "metadata": {},
     "outputs": [],
     "prompt_number": 22
    },
    {
     "cell_type": "code",
     "collapsed": false,
     "input": [
      "def toy_grid_search(function=None, parameter=None, kwargs=None):\n",
      "    tmp = np.arange(0,1.1,0.1)\n",
      "    prod = itertools.product(tmp, tmp, tmp, tmp)\n",
      "    \n",
      "    grid = []\n",
      "    for allocs in prod:\n",
      "        rounded = np.around(allocs, decimals=3)\n",
      "        if sum(rounded) == 1.0:\n",
      "            grid.append(rounded)\n",
      "\n",
      "    max_score = {\n",
      "           'score': 0,\n",
      "           'allocation': None\n",
      "           }\n",
      "    \n",
      "    for location in grid:\n",
      "        results = basic_simulation(allocations=location, **kwargs)\n",
      "        if results[parameter] > max_score['score']:\n",
      "            max_score['score'] = results[parameter]\n",
      "            max_score['allocation'] = location\n",
      "    \n",
      "    return max_score"
     ],
     "language": "python",
     "metadata": {},
     "outputs": [],
     "prompt_number": 23
    },
    {
     "cell_type": "code",
     "collapsed": false,
     "input": [
      "kwargs = {\n",
      "    'ls_symbols': ['BRCM', 'ADBE', 'AMD', 'ADI'], \n",
      "    'dt_start': dt.datetime(2010, 1, 1),\n",
      "    'dt_end': dt.datetime(2010, 12, 31),\n",
      "    'allocations': [0.4, 0.5, 0.0, 0.1]\n",
      "}\n",
      "\n",
      "basic_simulation(**kwargs)"
     ],
     "language": "python",
     "metadata": {},
     "outputs": [
      {
       "metadata": {},
       "output_type": "pyout",
       "prompt_number": 27,
       "text": [
        "{'Average Daily Return': 0.00046318652831066928,\n",
        " 'Cumulative Return': 1.116259818605978,\n",
        " 'End Date': datetime.datetime(2010, 12, 31, 0, 0),\n",
        " 'Optimal Allocations': [0.4, 0.5, 0.0, 0.1],\n",
        " 'Sharpe Ratio': 0.3904772801884886,\n",
        " 'Start Date': datetime.datetime(2010, 1, 1, 0, 0),\n",
        " 'Symbols': ['BRCM', 'ADBE', 'AMD', 'ADI'],\n",
        " 'Volatility': 0.018830437928995854}"
       ]
      }
     ],
     "prompt_number": 27
    },
    {
     "cell_type": "code",
     "collapsed": false,
     "input": [
      "kwargs = {\n",
      "    'ls_symbols':  ['BRCM', 'ADBE', 'AMD', 'ADI'], \n",
      "    'dt_start': dt.datetime(2010, 1, 1),\n",
      "    'dt_end': dt.datetime(2010, 12, 31),\n",
      "}\n",
      "\n",
      "toy_grid_search(basic_simulation, 'Sharpe Ratio', kwargs)"
     ],
     "language": "python",
     "metadata": {},
     "outputs": [
      {
       "metadata": {},
       "output_type": "pyout",
       "prompt_number": 25,
       "text": [
        "{'allocation': array([ 0.8,  0. ,  0. ,  0.2]), 'score': 1.0776641639884634}"
       ]
      }
     ],
     "prompt_number": 25
    },
    {
     "cell_type": "code",
     "collapsed": false,
     "input": [
      "na_price = d_data['close'].values\n",
      "plt.clf()\n",
      "plt.plot(ldt_timestamps, na_price)\n",
      "plt.legend(ls_symbols)\n",
      "plt.ylabel('Adjusted Close')\n",
      "plt.xlabel('Date')\n",
      "plt.show()\n",
      "plt.savefig('adjustedclose.pdf', format='pdf')"
     ],
     "language": "python",
     "metadata": {},
     "outputs": []
    },
    {
     "cell_type": "raw",
     "metadata": {},
     "source": [
      "Scatter plots are a convenient way to assess how similarly two equities move together. In a scatter plot of daily returns the X location of each point represents the return on one day for one stock, and the Y location is the return for another stock. If the cloud of points is arranged roughly in a line we can infer that the equities move together.\n",
      "\n",
      "\n",
      "A scatter plot of $SPX daily returns versus GLD.\n",
      "The figures to the right illustrate the visual difference between two equities that move together (top/blue) and two that are less correlated (bottom/red). What do the shapes of the point clouds tell you about these relationships?\n",
      "The figure at the top was created with the following line of code:"
     ]
    },
    {
     "cell_type": "code",
     "collapsed": false,
     "input": [
      "plt.scatter(na_rets[:, 3], na_rets[:, 1], c='blue')\n"
     ],
     "language": "python",
     "metadata": {},
     "outputs": []
    },
    {
     "cell_type": "raw",
     "metadata": {},
     "source": [
      "Using the daily returns we can reconstruct cumulative daily returns. Note that in general the cumulative daily return for day t is defined as follows (this is NOT Python code, it is an equation):"
     ]
    },
    {
     "cell_type": "code",
     "collapsed": false,
     "input": [
      "daily_cum_ret(t) = daily_cum_ret(t-1) * (1 + daily_ret(t))\n"
     ],
     "language": "python",
     "metadata": {},
     "outputs": []
    },
    {
     "cell_type": "code",
     "collapsed": false,
     "input": [],
     "language": "python",
     "metadata": {},
     "outputs": []
    }
   ],
   "metadata": {}
  }
 ]
}