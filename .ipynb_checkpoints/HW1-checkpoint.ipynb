{
 "metadata": {
  "name": ""
 },
 "nbformat": 3,
 "nbformat_minor": 0,
 "worksheets": [
  {
   "cells": [
    {
     "cell_type": "code",
     "collapsed": false,
     "input": [
      "import QSTK.qstkutil.qsdateutil as du\n",
      "import QSTK.qstkutil.tsutil as tsu\n",
      "import QSTK.qstkutil.DataAccess as da\n",
      "import itertools\n",
      "\n",
      "import datetime as dt\n",
      "import matplotlib.pyplot as plt\n",
      "import pandas as pd\n",
      "import numpy as np\n",
      "from pprint import pprint"
     ],
     "language": "python",
     "metadata": {},
     "outputs": [],
     "prompt_number": 71
    },
    {
     "cell_type": "raw",
     "metadata": {},
     "source": [
      "We'll be using historical adjusted close data. QSTK has a DataAccess class designed to quickly read this data into pandas DataFrame object. We must first select which symbols we're interested in, and for which time periods."
     ]
    },
    {
     "cell_type": "code",
     "collapsed": false,
     "input": [
      "def basic_simulation(ls_symbols, dt_start, dt_end, allocations=[0.0, 0.0, 0.0, 1.0]):\n",
      "    dt_timeofday = dt.timedelta(hours=16)\n",
      "    ldt_timestamps = du.getNYSEdays(dt_start, dt_end, dt_timeofday)\n",
      "\n",
      "    c_dataobj = da.DataAccess('Yahoo')\n",
      "    ls_keys = ['open', 'high', 'low', 'close', 'volume', 'actual_close']\n",
      "    ldf_data = c_dataobj.get_data(ldt_timestamps, ls_symbols, ls_keys)\n",
      "    \n",
      "    d_data = dict(zip(ls_keys, ldf_data))\n",
      "    \n",
      "    #cut out only closing prices from dict\n",
      "    na_price = d_data['close'].values\n",
      "    \n",
      "    #normalize the prices against GOOG, as it's considerably higher than the others\n",
      "    na_normalized_price = na_price / na_price[0, :]\n",
      "    \n",
      "    # The general equation for daily return on day t is: ret(t) = (price(t)/price(t-1)) -1\n",
      "    # We can compute this in Python all at once as using returnize0\n",
      "    na_rets = na_normalized_price.copy()\n",
      "    daily_rets = tsu.returnize0(na_rets)\n",
      "\n",
      "    #generate total daily return for portfolio given allocations (sum across n=2-axis)\n",
      "    daily_rets = np.sum(daily_rets * allocations, 1)\n",
      "    \n",
      "    #portfolio-wide stats\n",
      "    mean_daily_ret = np.mean(daily_rets, 0)\n",
      "    std_daily_ret = np.std(daily_rets, 0)\n",
      "    cum_daily_ret = np.sum(daily_rets, 0)\n",
      "    sharpe_ratio = mean_daily_ret/std_daily_ret\n",
      "    \n",
      "    return {\n",
      "        'Start Date': dt_start,\n",
      "        'End Date': dt_end,\n",
      "        'Symbols': ls_symbols, \n",
      "        'Optimal Allocations': allocations,\n",
      "        'Sharpe Ratio': sharpe_ratio*np.sqrt(252),\n",
      "        'Volatility': std_daily_ret,\n",
      "        'Average Daily Return': mean_daily_ret,\n",
      "        'Cumulative Return': 1 + cum_daily_ret\n",
      "    }\n",
      "\n",
      "d_data = basic_simulation(ls_symbols, dt_start, dt_end)"
     ],
     "language": "python",
     "metadata": {},
     "outputs": [],
     "prompt_number": 72
    },
    {
     "cell_type": "code",
     "collapsed": false,
     "input": [
      "def toy_grid_search(function=None, parameter=None, kwargs=None):\n",
      "    tmp = np.arange(0,1.1,0.1)\n",
      "    prod = itertools.product(tmp, tmp, tmp, tmp)\n",
      "    \n",
      "    grid = []\n",
      "    for allocs in prod:\n",
      "        rounded = np.around(allocs, decimals=3)\n",
      "        if sum(rounded) == 1.0:\n",
      "            grid.append(rounded)\n",
      "\n",
      "    max_score = {\n",
      "           'score': 0,\n",
      "           'allocation': None\n",
      "           }\n",
      "    \n",
      "    for location in grid:\n",
      "        results = basic_simulation(allocations=location, **kwargs)\n",
      "        if results[parameter] < max_score['score']:\n",
      "            max_score['score'] = results[parameter]\n",
      "            max_score['allocation'] = location\n",
      "    \n",
      "    return max_score\n",
      "\n",
      "kwargs = {\n",
      "    'ls_symbols': ['C', 'GS', 'IBM', 'HNZ'], \n",
      "    'dt_start': dt.datetime(2011, 1, 1),\n",
      "    'dt_end': dt.datetime(2011, 12, 31),\n",
      "}\n",
      "\n",
      "toy_grid_search(basic_simulation, 'Sharpe Ratio', kwargs)"
     ],
     "language": "python",
     "metadata": {},
     "outputs": [
      {
       "metadata": {},
       "output_type": "pyout",
       "prompt_number": 77,
       "text": [
        "{'allocation': array([ 0.,  1.,  0.,  0.]), 'score': -1.4975584318698398}"
       ]
      }
     ],
     "prompt_number": 77
    },
    {
     "cell_type": "code",
     "collapsed": false,
     "input": [
      "kwargs = {\n",
      "    'ls_symbols': ['C', 'GS', 'IBM', 'HNZ'], \n",
      "    'dt_start': dt.datetime(2011, 1, 1),\n",
      "    'dt_end': dt.datetime(2011, 12, 31),\n",
      "}"
     ],
     "language": "python",
     "metadata": {},
     "outputs": [],
     "prompt_number": 64
    },
    {
     "cell_type": "code",
     "collapsed": false,
     "input": [
      "print(**kwargs)"
     ],
     "language": "python",
     "metadata": {},
     "outputs": [
      {
       "ename": "SyntaxError",
       "evalue": "invalid syntax (<ipython-input-69-0185ce2f4032>, line 1)",
       "output_type": "pyerr",
       "traceback": [
        "\u001b[0;36m  File \u001b[0;32m\"<ipython-input-69-0185ce2f4032>\"\u001b[0;36m, line \u001b[0;32m1\u001b[0m\n\u001b[0;31m    print(**kwargs)\u001b[0m\n\u001b[0m           ^\u001b[0m\n\u001b[0;31mSyntaxError\u001b[0m\u001b[0;31m:\u001b[0m invalid syntax\n"
       ]
      }
     ],
     "prompt_number": 69
    },
    {
     "cell_type": "code",
     "collapsed": false,
     "input": [
      "example = np.array([[d_data], [d_data]])\n",
      "print(example)"
     ],
     "language": "python",
     "metadata": {},
     "outputs": [
      {
       "output_type": "stream",
       "stream": "stdout",
       "text": [
        "[[[  1.00258248   0.06373201   2.65078535  15.73122453]]\n",
        "\n",
        " [[  1.00258248   0.06373201   2.65078535  15.73122453]]]\n"
       ]
      }
     ],
     "prompt_number": 80
    },
    {
     "cell_type": "code",
     "collapsed": false,
     "input": [
      "1.00000000001 == 1.0000000"
     ],
     "language": "python",
     "metadata": {},
     "outputs": [
      {
       "metadata": {},
       "output_type": "pyout",
       "prompt_number": 19,
       "text": [
        "False"
       ]
      }
     ],
     "prompt_number": 19
    },
    {
     "cell_type": "code",
     "collapsed": false,
     "input": [
      "na_price = d_data['close'].values\n",
      "plt.clf()\n",
      "plt.plot(ldt_timestamps, na_price)\n",
      "plt.legend(ls_symbols)\n",
      "plt.ylabel('Adjusted Close')\n",
      "plt.xlabel('Date')\n",
      "plt.show()\n",
      "plt.savefig('adjustedclose.pdf', format='pdf')"
     ],
     "language": "python",
     "metadata": {},
     "outputs": [],
     "prompt_number": 11
    },
    {
     "cell_type": "raw",
     "metadata": {},
     "source": [
      "In the first line we pull out the close prices we cant to plot into a 2D numpy array from a dataframe. In the next line we erase any previous graph.\n",
      "\n",
      "We can then plot the data using plt.plot. Note that the pyplot plot() command is smart enough to plot several lines at once if it is provided a 2D object. pyplot automatically assigns a color to each line, but you can, if you like, assign your own colors. We add a legend with the symbol names and also add labels for the axes. Finally, with plt.savefig the figure is written to a file.\n",
      "\n",
      "A problem with the previous figure is that the high share price of GOOG dominates. It is difficult to see what's going on with the other equities. Also, as an investor, you really want to see relative, or normalized price moves. Here's how to normalize the data:"
     ]
    },
    {
     "cell_type": "markdown",
     "metadata": {},
     "source": [
      "It is very often useful to look at the returns by day for individual stocks. The general equation for daily return on day t is:\n",
      "ret(t) = (price(t)/price(t-1)) -1\n",
      "We can compute this in Python all at once as using the builtin QSTK function returnize0:"
     ]
    },
    {
     "cell_type": "code",
     "collapsed": false,
     "input": [
      "na_rets = na_normalized_price.copy()\n",
      "tsu.returnize0(na_rets)"
     ],
     "language": "python",
     "metadata": {},
     "outputs": [
      {
       "metadata": {},
       "output_type": "pyout",
       "prompt_number": 7,
       "text": [
        "array([[  0.00000000e+00,   0.00000000e+00,   0.00000000e+00,\n",
        "          0.00000000e+00,   0.00000000e+00],\n",
        "       [  2.95579739e-03,   3.38855422e-03,   2.29993337e-02,\n",
        "          3.67276166e-03,   1.78323757e-03],\n",
        "       [ -7.90354990e-03,  -1.80112570e-02,   1.34758782e-02,\n",
        "          1.57052440e-05,  -4.94462025e-03],\n",
        "       ..., \n",
        "       [  2.44362647e-03,   1.62938824e-02,  -5.74388260e-03,\n",
        "          7.71347233e-04,   5.57222460e-03],\n",
        "       [ -5.55418415e-04,   3.57090803e-03,   3.47291792e-03,\n",
        "          1.00912984e-03,  -5.68343279e-04],\n",
        "       [ -5.00154369e-03,  -4.93791301e-03,  -3.56073211e-03,\n",
        "         -1.50819984e-03,  -1.42166619e-04]])"
       ]
      }
     ],
     "prompt_number": 7
    },
    {
     "cell_type": "raw",
     "metadata": {},
     "source": [
      "Scatter plots are a convenient way to assess how similarly two equities move together. In a scatter plot of daily returns the X location of each point represents the return on one day for one stock, and the Y location is the return for another stock. If the cloud of points is arranged roughly in a line we can infer that the equities move together.\n",
      "\n",
      "\n",
      "A scatter plot of $SPX daily returns versus GLD.\n",
      "The figures to the right illustrate the visual difference between two equities that move together (top/blue) and two that are less correlated (bottom/red). What do the shapes of the point clouds tell you about these relationships?\n",
      "The figure at the top was created with the following line of code:"
     ]
    },
    {
     "cell_type": "code",
     "collapsed": false,
     "input": [
      "plt.scatter(na_rets[:, 3], na_rets[:, 1], c='blue')\n"
     ],
     "language": "python",
     "metadata": {},
     "outputs": [
      {
       "metadata": {},
       "output_type": "pyout",
       "prompt_number": 8,
       "text": [
        "<matplotlib.collections.PathCollection at 0x7f786c95e450>"
       ]
      }
     ],
     "prompt_number": 8
    },
    {
     "cell_type": "raw",
     "metadata": {},
     "source": [
      "Using the daily returns we can reconstruct cumulative daily returns. Note that in general the cumulative daily return for day t is defined as follows (this is NOT Python code, it is an equation):"
     ]
    },
    {
     "cell_type": "code",
     "collapsed": false,
     "input": [
      "daily_cum_ret(t) = daily_cum_ret(t-1) * (1 + daily_ret(t))\n"
     ],
     "language": "python",
     "metadata": {},
     "outputs": [
      {
       "ename": "SyntaxError",
       "evalue": "can't assign to function call (<ipython-input-9-addb2b0b0209>, line 1)",
       "output_type": "pyerr",
       "traceback": [
        "\u001b[0;36m  File \u001b[0;32m\"<ipython-input-9-addb2b0b0209>\"\u001b[0;36m, line \u001b[0;32m1\u001b[0m\n\u001b[0;31m    daily_cum_ret(t) = daily_cum_ret(t-1) * (1 + daily_ret(t))\u001b[0m\n\u001b[0;31mSyntaxError\u001b[0m\u001b[0;31m:\u001b[0m can't assign to function call\n"
       ]
      }
     ],
     "prompt_number": 9
    },
    {
     "cell_type": "code",
     "collapsed": false,
     "input": [],
     "language": "python",
     "metadata": {},
     "outputs": []
    }
   ],
   "metadata": {}
  }
 ]
}