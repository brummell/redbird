{
 "metadata": {
  "name": ""
 },
 "nbformat": 3,
 "nbformat_minor": 0,
 "worksheets": [
  {
   "cells": [
    {
     "cell_type": "code",
     "collapsed": false,
     "input": [
      "import pandas as pd\n",
      "import numpy as np\n",
      "import math\n",
      "import csv\n",
      "import copy\n",
      "import QSTK.qstkutil.qsdateutil as du\n",
      "import datetime as dt\n",
      "import QSTK.qstkutil.DataAccess as da\n",
      "import QSTK.qstkutil.tsutil as tsu\n",
      "import QSTK.qstkstudy.EventProfiler as ep\n",
      "from pprint import pprint"
     ],
     "language": "python",
     "metadata": {},
     "outputs": []
    },
    {
     "cell_type": "code",
     "collapsed": false,
     "input": [
      "def orig_find_events(ls_symbols, d_data):\n",
      "    ''' Finding the event dataframe '''\n",
      "    df_close = d_data['actual_close']\n",
      "    ts_market = df_close['SPY']\n",
      "\n",
      "    print \"Finding Events\"\n",
      "\n",
      "    # Creating an empty dataframe\n",
      "    df_events = copy.deepcopy(df_close)\n",
      "    df_events = df_events * np.NAN\n",
      "\n",
      "    # Time stamps for the event range\n",
      "    ldt_timestamps = df_close.index\n",
      "\n",
      "    for s_sym in ls_symbols:\n",
      "        for i in range(1, len(ldt_timestamps)):\n",
      "            # Calculating the returns for this timestamp\n",
      "            f_symprice_today = df_close[s_sym].ix[ldt_timestamps[i]]\n",
      "            f_symprice_yest = df_close[s_sym].ix[ldt_timestamps[i - 1]]\n",
      "            f_marketprice_today = ts_market.ix[ldt_timestamps[i]]\n",
      "            f_marketprice_yest = ts_market.ix[ldt_timestamps[i - 1]]\n",
      "            f_symreturn_today = (f_symprice_today / f_symprice_yest) - 1\n",
      "            f_marketreturn_today = (f_marketprice_today / f_marketprice_yest) - 1\n",
      "\n",
      "            # Event is found if the symbol is down more then 3% while the\n",
      "            # market is up more then 2%\n",
      "            if f_symprice_today < 7.0 and f_symprice_yest >= 7.0:\n",
      "                df_events[s_sym].ix[ldt_timestamps[i]] = 1\n",
      "\n",
      "    return df_events"
     ],
     "language": "python",
     "metadata": {},
     "outputs": []
    },
    {
     "cell_type": "code",
     "collapsed": false,
     "input": [],
     "language": "python",
     "metadata": {},
     "outputs": []
    },
    {
     "cell_type": "code",
     "collapsed": false,
     "input": [
      "if __name__ == '__main__':\n",
      "    orderbook = create_order_book()\n",
      "    \n",
      "    dates = orderbook.date\n",
      "    start_date = dates.min()\n",
      "    end_date = dates.max()\n",
      "\n",
      "    ldt_timestamps = du.getNYSEdays(start_date, end_date, dt.timedelta(hours=16))\n",
      "\n",
      "    sim = pd.DataFrame(columns = ['date', 'portfolio', 'portfolio_value', 'cash'])\n",
      "    sim.date = ldt_timestamps\n",
      "    sim_duration = len(ldt_timestamps)\n",
      "    sim.portfolio = np.zeros(sim_duration)\n",
      "    sim.portfolio_value = np.zeros(sim_duration)\n",
      "    sim.portfolio = np.zeros(sim_duration)\n",
      "    sim.cash = np.zeros(sim_duration)\n",
      "    \n",
      "    portfolio = {}\n",
      "    \n",
      "    def update_port_value(date, portfolio, market_prices):\n",
      "        #tested, working(at least nominally)\n",
      "        total = 0\n",
      "        for k, v in portfolio.iteritems():\n",
      "            v['price'] = market_prices['actual_close'][k][date]\n",
      "            total += v['price']*v['shares']\n",
      "        return total\n",
      "            \n",
      "    current_portfolio = {\n",
      "                         'date': start_date, \n",
      "                         'portfolio': { \n",
      "                                       '''\n",
      "                                       'SYMBOL': {\n",
      "                                                  'shares': 0,\n",
      "                                                  'price': None\n",
      "                                                  }\n",
      "                                        '''\n",
      "                                        },\n",
      "                         'portfolio_value': 0,\n",
      "                         'cash': 1000000\n",
      "                         }\n",
      "    \n",
      "    for i in sim.index:\n",
      "        if sim.date.get_values()[i] not in orderbook.date.get_values():\n",
      "            current_portfolio['date'] = sim.date.get_values()[i]\n",
      "\n",
      "            sim.portfolio[i] = current_portfolio['portfolio']\n",
      "        current_portfolio['date'] = sim.date[i]\n",
      "        current_portfolio['date'] = sim.date[i]\n",
      "        \n",
      "    dataobj = da.DataAccess('Yahoo')\n",
      "    ls_symbols = dataobj.get_symbols_from_list('sp5002012')\n",
      "    ls_symbols.append('SPY')\n",
      "        \n",
      "    ls_keys = ['open', 'high', 'low', 'close', 'volume', 'actual_close']\n",
      "    ldf_data = dataobj.get_data(ldt_timestamps, ls_symbols, ls_keys)\n",
      "    d_data = dict(zip(ls_keys, ldf_data))\n",
      "\n",
      "    for s_key in ls_keys:\n",
      "         d_data[s_key] = d_data[s_key].fillna(method='ffill')\n",
      "         d_data[s_key] = d_data[s_key].fillna(method='bfill')\n",
      "         d_data[s_key] = d_data[s_key].fillna(1.0)\n",
      "\n",
      "    "
     ],
     "language": "python",
     "metadata": {},
     "outputs": [],
     "prompt_number": 74
    },
    {
     "cell_type": "code",
     "collapsed": false,
     "input": [
      "\n",
      "            "
     ],
     "language": "python",
     "metadata": {},
     "outputs": [],
     "prompt_number": 188
    },
    {
     "cell_type": "code",
     "collapsed": false,
     "input": [
      "port = {\n",
      "        'AAPL': {\n",
      "                 'price': 100, \n",
      "                 'shares':100\n",
      "                 },\n",
      "        'AA': {\n",
      "               'price': 100, \n",
      "               'shares':100\n",
      "               }\n",
      "        }\n",
      "update_port_value(a, port, d_data)"
     ],
     "language": "python",
     "metadata": {},
     "outputs": [
      {
       "output_type": "stream",
       "stream": "stdout",
       "text": [
        "AA {'price': 100, 'shares': 100}\n",
        "AAPL {'price': 100, 'shares': 100}\n"
       ]
      },
      {
       "metadata": {},
       "output_type": "pyout",
       "prompt_number": 189,
       "text": [
        "36445.0"
       ]
      }
     ],
     "prompt_number": 189
    },
    {
     "cell_type": "code",
     "collapsed": false,
     "input": [
      "print port"
     ],
     "language": "python",
     "metadata": {},
     "outputs": [
      {
       "output_type": "stream",
       "stream": "stdout",
       "text": [
        "{'AA': {'price': 15.970000000000001, 'shares': 100}, 'AAPL': {'price': 348.48000000000002, 'shares': 100}}\n"
       ]
      }
     ],
     "prompt_number": 190
    },
    {
     "cell_type": "code",
     "collapsed": false,
     "input": [
      "d_data['actual_close']['AA']"
     ],
     "language": "python",
     "metadata": {},
     "outputs": [
      {
       "metadata": {},
       "output_type": "pyout",
       "prompt_number": 187,
       "text": [
        "2011-01-14 16:00:00    15.97\n",
        "2011-01-18 16:00:00    16.27\n",
        "2011-01-19 16:00:00    16.06\n",
        "2011-01-20 16:00:00    15.98\n",
        "2011-01-21 16:00:00    15.79\n",
        "2011-01-24 16:00:00    16.43\n",
        "2011-01-25 16:00:00    16.24\n",
        "2011-01-26 16:00:00    16.60\n",
        "2011-01-27 16:00:00    16.47\n",
        "2011-01-28 16:00:00    16.13\n",
        "2011-01-31 16:00:00    16.57\n",
        "2011-02-01 16:00:00    17.32\n",
        "2011-02-02 16:00:00    17.21\n",
        "2011-02-03 16:00:00    17.21\n",
        "2011-02-04 16:00:00    17.14\n",
        "...\n",
        "2011-11-22 16:00:00     9.26\n",
        "2011-11-23 16:00:00     8.88\n",
        "2011-11-25 16:00:00     8.95\n",
        "2011-11-28 16:00:00     9.46\n",
        "2011-11-29 16:00:00     9.31\n",
        "2011-11-30 16:00:00    10.02\n",
        "2011-12-01 16:00:00     9.81\n",
        "2011-12-02 16:00:00     9.91\n",
        "2011-12-05 16:00:00    10.00\n",
        "2011-12-06 16:00:00     9.92\n",
        "2011-12-07 16:00:00     9.90\n",
        "2011-12-08 16:00:00     9.47\n",
        "2011-12-09 16:00:00     9.64\n",
        "2011-12-12 16:00:00     9.35\n",
        "2011-12-13 16:00:00     9.04\n",
        "Name: AA, Length: 231"
       ]
      }
     ],
     "prompt_number": 187
    },
    {
     "cell_type": "code",
     "collapsed": false,
     "input": [
      "#Working way to handle this\n",
      "a = sim.date.get_values()[0]\n",
      "a in orderbook.date.get_values()\n",
      "\n",
      "#and this!\n",
      "d_data['actual_close']['AAPL'][a]"
     ],
     "language": "python",
     "metadata": {},
     "outputs": [
      {
       "metadata": {},
       "output_type": "pyout",
       "prompt_number": 173,
       "text": [
        "True"
       ]
      }
     ],
     "prompt_number": 173
    },
    {
     "cell_type": "code",
     "collapsed": false,
     "input": [
      "'''\n",
      "orderbook = {\n",
      "             'date': needs to be created,\n",
      "             'symbol': obvi,\n",
      "             'action': buy/sell for now,\n",
      "             'shares': integer\n",
      "             }\n",
      "'''\n",
      "\n",
      "def create_order_book(filename='orders2.csv'):\n",
      "    with open(filename, 'rb') as orders:\n",
      "        c_orders = csv.reader(orders)\n",
      "        orders = []\n",
      "        for line in c_orders:\n",
      "            order = {\n",
      "                     'date': dt.datetime(*[int(x) for x in line[:3]] + [16, 0, 0]),\n",
      "                     'symbol': line[3].upper(),\n",
      "                     'action': line[4].lower(),\n",
      "                     'shares': int(line[5])\n",
      "                     }\n",
      "            orders.append(order)\n",
      "        frame = pd.DataFrame(orders)\n",
      "        return frame.sort(columns=['date'], ascending=True)\n",
      "\n",
      "orderbook = create_order_book()"
     ],
     "language": "python",
     "metadata": {},
     "outputs": [],
     "prompt_number": 153
    },
    {
     "cell_type": "code",
     "collapsed": false,
     "input": [
      "orderbook.date[0] in sim.date"
     ],
     "language": "python",
     "metadata": {},
     "outputs": [
      {
       "metadata": {},
       "output_type": "pyout",
       "prompt_number": 137,
       "text": [
        "False"
       ]
      }
     ],
     "prompt_number": 137
    },
    {
     "cell_type": "code",
     "collapsed": false,
     "input": [
      "a = orderbook.date[0]\n",
      "b = a.day + 1"
     ],
     "language": "python",
     "metadata": {},
     "outputs": [],
     "prompt_number": 111
    },
    {
     "cell_type": "code",
     "collapsed": false,
     "input": [
      "a in [a, b]"
     ],
     "language": "python",
     "metadata": {},
     "outputs": [
      {
       "metadata": {},
       "output_type": "pyout",
       "prompt_number": 114,
       "text": [
        "True"
       ]
      }
     ],
     "prompt_number": 114
    },
    {
     "cell_type": "code",
     "collapsed": false,
     "input": [
      "32 in [3,2,3,4,5]"
     ],
     "language": "python",
     "metadata": {},
     "outputs": [
      {
       "metadata": {},
       "output_type": "pyout",
       "prompt_number": 105,
       "text": [
        "False"
       ]
      }
     ],
     "prompt_number": 105
    },
    {
     "cell_type": "code",
     "collapsed": false,
     "input": [
      "pprint(orders)"
     ],
     "language": "python",
     "metadata": {},
     "outputs": []
    },
    {
     "cell_type": "code",
     "collapsed": false,
     "input": [],
     "language": "python",
     "metadata": {},
     "outputs": []
    }
   ],
   "metadata": {}
  }
 ]
}