{
 "metadata": {
  "name": ""
 },
 "nbformat": 3,
 "nbformat_minor": 0,
 "worksheets": [
  {
   "cells": [
    {
     "cell_type": "code",
     "collapsed": false,
     "input": [
      "import pandas as pd\n",
      "import numpy as np\n",
      "import math\n",
      "import csv\n",
      "import copy\n",
      "import QSTK.qstkutil.qsdateutil as du\n",
      "import datetime as dt\n",
      "import QSTK.qstkutil.DataAccess as da\n",
      "import QSTK.qstkutil.tsutil as tsu\n",
      "import QSTK.qstkstudy.EventProfiler as ep\n",
      "from pprint import pprint"
     ],
     "language": "python",
     "metadata": {},
     "outputs": []
    },
    {
     "cell_type": "code",
     "collapsed": false,
     "input": [
      "def orig_find_events(ls_symbols, d_data):\n",
      "    ''' Finding the event dataframe '''\n",
      "    df_close = d_data['actual_close']\n",
      "    ts_market = df_close['SPY']\n",
      "\n",
      "    print \"Finding Events\"\n",
      "\n",
      "    # Creating an empty dataframe\n",
      "    df_events = copy.deepcopy(df_close)\n",
      "    df_events = df_events * np.NAN\n",
      "\n",
      "    # Time stamps for the event range\n",
      "    ldt_timestamps = df_close.index\n",
      "\n",
      "    for s_sym in ls_symbols:\n",
      "        for i in range(1, len(ldt_timestamps)):\n",
      "            # Calculating the returns for this timestamp\n",
      "            f_symprice_today = df_close[s_sym].ix[ldt_timestamps[i]]\n",
      "            f_symprice_yest = df_close[s_sym].ix[ldt_timestamps[i - 1]]\n",
      "            f_marketprice_today = ts_market.ix[ldt_timestamps[i]]\n",
      "            f_marketprice_yest = ts_market.ix[ldt_timestamps[i - 1]]\n",
      "            f_symreturn_today = (f_symprice_today / f_symprice_yest) - 1\n",
      "            f_marketreturn_today = (f_marketprice_today / f_marketprice_yest) - 1\n",
      "\n",
      "            # Event is found if the symbol is down more then 3% while the\n",
      "            # market is up more then 2%\n",
      "            if f_symprice_today < 7.0 and f_symprice_yest >= 7.0:\n",
      "                df_events[s_sym].ix[ldt_timestamps[i]] = 1\n",
      "\n",
      "    return df_events"
     ],
     "language": "python",
     "metadata": {},
     "outputs": []
    },
    {
     "cell_type": "code",
     "collapsed": false,
     "input": [],
     "language": "python",
     "metadata": {},
     "outputs": []
    },
    {
     "cell_type": "code",
     "collapsed": false,
     "input": [
      "if __name__ == '__main__':\n",
      "    orderbook = create_order_book()\n",
      "    \n",
      "    dates = orderbook.date\n",
      "    start_date = dates.min()\n",
      "    end_date = dates.max()\n",
      "\n",
      "    ldt_timestamps = du.getNYSEdays(start_date, end_date, dt.timedelta(hours=16))\n",
      "\n",
      "    sim = pd.DataFrame(columns = ['date', 'portfolio', 'portfolio_value', 'cash'])\n",
      "    sim.date = ldt_timestamps\n",
      "    sim_duration = len(ldt_timestamps)\n",
      "    sim.portfolio = np.zeros(sim_duration)\n",
      "    sim.portfolio_value = np.zeros(sim_duration)\n",
      "    sim.portfolio = np.zeros(sim_duration)\n",
      "    sim.cash = np.zeros(sim_duration)\n",
      "    \n",
      "    current_portfolio = {\n",
      "                         'date': start_date, \n",
      "                         'portfolio': { \n",
      "                                       '''\n",
      "                                       'SYMBOL': {\n",
      "                                                  'shares': 0,\n",
      "                                                  'price': None\n",
      "                                                  }\n",
      "                                        '''\n",
      "                                        },\n",
      "                         'portfolio_value': 0,\n",
      "                         'cash': 1000000\n",
      "                         }\n",
      "    \n",
      "    for i in sim.index:\n",
      "        current_portfolio['date'] = sim.date[i]\n",
      "        current_portfolio['portfolio'] = sim.date[i]\n",
      "        current_portfolio['date'] = sim.date[i]\n",
      "        current_portfolio['date'] = sim.date[i]\n",
      "        \n",
      "    dataobj = da.DataAccess('Yahoo')\n",
      "    ls_symbols = dataobj.get_symbols_from_list('sp5002012')\n",
      "    ls_symbols.append('SPY')\n",
      "        \n",
      "    ls_keys = ['open', 'high', 'low', 'close', 'volume', 'actual_close']\n",
      "    ldf_data = dataobj.get_data(ldt_timestamps, ls_symbols, ls_keys)\n",
      "    d_data = dict(zip(ls_keys, ldf_data))\n",
      "\n",
      "    for s_key in ls_keys:\n",
      "         d_data[s_key] = d_data[s_key].fillna(method='ffill')\n",
      "         d_data[s_key] = d_data[s_key].fillna(method='bfill')\n",
      "         d_data[s_key] = d_data[s_key].fillna(1.0)\n",
      "\n",
      "    "
     ],
     "language": "python",
     "metadata": {},
     "outputs": [],
     "prompt_number": 74
    },
    {
     "cell_type": "code",
     "collapsed": false,
     "input": [
      "a = sim.date[0]"
     ],
     "language": "python",
     "metadata": {},
     "outputs": [],
     "prompt_number": 130
    },
    {
     "cell_type": "code",
     "collapsed": false,
     "input": [
      "sim.date[0]"
     ],
     "language": "python",
     "metadata": {},
     "outputs": [
      {
       "metadata": {},
       "output_type": "pyout",
       "prompt_number": 131,
       "text": [
        "Timestamp('2011-01-14 16:00:00', tz=None)"
       ]
      }
     ],
     "prompt_number": 131
    },
    {
     "cell_type": "code",
     "collapsed": false,
     "input": [
      "orderbook.date"
     ],
     "language": "python",
     "metadata": {},
     "outputs": [
      {
       "metadata": {},
       "output_type": "pyout",
       "prompt_number": 123,
       "text": [
        "0    2011-01-14 16:00:00\n",
        "1    2011-01-19 16:00:00\n",
        "2    2011-01-19 16:00:00\n",
        "3    2011-01-31 16:00:00\n",
        "4    2011-02-04 16:00:00\n",
        "5    2011-02-11 16:00:00\n",
        "6    2011-03-02 16:00:00\n",
        "7    2011-03-02 16:00:00\n",
        "9    2011-05-23 16:00:00\n",
        "8    2011-06-02 16:00:00\n",
        "10   2011-06-10 16:00:00\n",
        "11   2011-08-09 16:00:00\n",
        "12   2011-08-11 16:00:00\n",
        "13   2011-12-14 16:00:00\n",
        "Name: date, dtype: datetime64[ns]"
       ]
      }
     ],
     "prompt_number": 123
    },
    {
     "cell_type": "code",
     "collapsed": false,
     "input": [
      "ororderbook.date[0]"
     ],
     "language": "python",
     "metadata": {},
     "outputs": [
      {
       "metadata": {},
       "output_type": "pyout",
       "prompt_number": 133,
       "text": [
        "Timestamp('2011-01-14 16:00:00', tz=None)"
       ]
      }
     ],
     "prompt_number": 133
    },
    {
     "cell_type": "code",
     "collapsed": false,
     "input": [
      "sim.date[0] in orderbook.date.valu"
     ],
     "language": "python",
     "metadata": {},
     "outputs": [
      {
       "metadata": {},
       "output_type": "pyout",
       "prompt_number": 121,
       "text": [
        "False"
       ]
      }
     ],
     "prompt_number": 121
    },
    {
     "cell_type": "code",
     "collapsed": false,
     "input": [
      "'''\n",
      "orderbook = {\n",
      "             'date': needs to be created,\n",
      "             'symbol': obvi,\n",
      "             'action': buy/sell for now,\n",
      "             'shares': integer\n",
      "             }\n",
      "'''\n",
      "\n",
      "def create_order_book(filename='orders2.csv'):\n",
      "    with open(filename, 'rb') as orders:\n",
      "        c_orders = csv.reader(orders)\n",
      "        orders = []\n",
      "        for line in c_orders:\n",
      "            order = {\n",
      "                     'date': dt.datetime(*[int(x) for x in line[:3]] + [16, 0, 0]),\n",
      "                     'symbol': line[3].upper(),\n",
      "                     'action': line[4].lower(),\n",
      "                     'shares': int(line[5])\n",
      "                     }\n",
      "            orders.append(order)\n",
      "        frame = pd.DataFrame(orders)\n",
      "        return frame.sort(columns=['date'], ascending=True)\n",
      "\n",
      "orderbook = create_order_book()"
     ],
     "language": "python",
     "metadata": {},
     "outputs": [],
     "prompt_number": 96
    },
    {
     "cell_type": "code",
     "collapsed": false,
     "input": [
      "a = orderbook.date[0]\n",
      "b = a.day + 1"
     ],
     "language": "python",
     "metadata": {},
     "outputs": [],
     "prompt_number": 111
    },
    {
     "cell_type": "code",
     "collapsed": false,
     "input": [
      "a in [a, b]"
     ],
     "language": "python",
     "metadata": {},
     "outputs": [
      {
       "metadata": {},
       "output_type": "pyout",
       "prompt_number": 114,
       "text": [
        "True"
       ]
      }
     ],
     "prompt_number": 114
    },
    {
     "cell_type": "code",
     "collapsed": false,
     "input": [
      "32 in [3,2,3,4,5]"
     ],
     "language": "python",
     "metadata": {},
     "outputs": [
      {
       "metadata": {},
       "output_type": "pyout",
       "prompt_number": 105,
       "text": [
        "False"
       ]
      }
     ],
     "prompt_number": 105
    },
    {
     "cell_type": "code",
     "collapsed": false,
     "input": [
      "pprint(orders)"
     ],
     "language": "python",
     "metadata": {},
     "outputs": []
    },
    {
     "cell_type": "code",
     "collapsed": false,
     "input": [],
     "language": "python",
     "metadata": {},
     "outputs": []
    }
   ],
   "metadata": {}
  }
 ]
}