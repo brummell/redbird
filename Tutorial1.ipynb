{
 "metadata": {
  "name": ""
 },
 "nbformat": 3,
 "nbformat_minor": 0,
 "worksheets": [
  {
   "cells": [
    {
     "cell_type": "code",
     "collapsed": false,
     "input": [
      "import QSTK.qstkutil.qsdateutil as du\n",
      "import QSTK.qstkutil.tsutil as tsu\n",
      "import QSTK.qstkutil.DataAccess as da\n",
      "\n",
      "import datetime as dt\n",
      "import matplotlib.pyplot as plt\n",
      "import pandas as pd"
     ],
     "language": "python",
     "metadata": {},
     "outputs": [],
     "prompt_number": 1
    },
    {
     "cell_type": "raw",
     "metadata": {},
     "source": [
      "We'll be using historical adjusted close data. QSTK has a DataAccess class designed to quickly read this data into pandas DataFrame object. We must first select which symbols we're interested in, and for which time periods."
     ]
    },
    {
     "cell_type": "code",
     "collapsed": false,
     "input": [
      "ls_symbols = [\"AAPL\", \"GLD\", \"GOOG\", \"$SPX\", \"XOM\"]\n",
      "dt_start = dt.datetime(2006, 1, 1)\n",
      "dt_end = dt.datetime(2010, 12, 31)\n",
      "dt_timeofday = dt.timedelta(hours=16)\n",
      "ldt_timestamps = du.getNYSEdays(dt_start, dt_end, dt_timeofday)"
     ],
     "language": "python",
     "metadata": {},
     "outputs": [],
     "prompt_number": 2
    },
    {
     "cell_type": "raw",
     "metadata": {},
     "source": [
      "In the first line above we create a list of 5 equities we're interested to look at. Next we specify a start date and and end date using Python's datetime feature. Finally, we get a list of timestamps that represent NYSE closing times between the start and end dates. The reason we need to specify 16:00 hours is because we want to read the data that was available to us at the close of the day.\n",
      "\n",
      "Now we are ready to read the data in:"
     ]
    },
    {
     "cell_type": "code",
     "collapsed": false,
     "input": [
      "c_dataobj = da.DataAccess('Yahoo')\n",
      "ls_keys = ['open', 'high', 'low', 'close', 'volume', 'actual_close']\n",
      "ldf_data = c_dataobj.get_data(ldt_timestamps, ls_symbols, ls_keys)\n",
      "d_data = dict(zip(ls_keys, ldf_data))"
     ],
     "language": "python",
     "metadata": {},
     "outputs": [],
     "prompt_number": 3
    },
    {
     "cell_type": "raw",
     "metadata": {},
     "source": [
      "The first line creates an object that will be ready to read from our Yahoo data source. The second two lines provide the various data types you want to read. The third line creates a list of dataframe objects which have all the different types of data. The fourth line converts this list into a dictionary and then we can access anytype of data we want easily.\n",
      "\n",
      "Take a look here for examples of what you can do with them. A DataFrame's rows correspond to points in time, and its columns usually represent specific stocks or equities. The data in each cell of a DataFrame represents the corresponding item (say closing price) for that stock at that time. You can access the indexes for the rows and the columns as close.index, or close.columns.\n",
      "\n",
      "The \"real\" data within a DataFrame can be pulled out and manipulated as a NumPy ndarray. NumPy provides sophisticated indexing and slicing capabilities similar to those that MATLAB allows. For more details on this take a look at a numpy tutorial, (skip to the indexing and slicing section). We we leverage NumPy features in this tutorial."
     ]
    },
    {
     "cell_type": "raw",
     "metadata": {},
     "source": [
      "The figure on the right shows the adjusted close data from the file. In this section we look at the code that generated it. First, we create date objects from the date data:"
     ]
    },
    {
     "cell_type": "code",
     "collapsed": false,
     "input": [
      "na_price = d_data['close'].values\n",
      "plt.clf()\n",
      "plt.plot(ldt_timestamps, na_price)\n",
      "plt.legend(ls_symbols)\n",
      "plt.ylabel('Adjusted Close')\n",
      "plt.xlabel('Date')\n",
      "plt.savefig('adjustedclose.pdf', format='pdf')"
     ],
     "language": "python",
     "metadata": {},
     "outputs": [],
     "prompt_number": 4
    },
    {
     "cell_type": "raw",
     "metadata": {},
     "source": [
      "In the first line we pull out the close prices we cant to plot into a 2D numpy array from a dataframe. In the next line we erase any previous graph.\n",
      "\n",
      "We can then plot the data using plt.plot. Note that the pyplot plot() command is smart enough to plot several lines at once if it is provided a 2D object. pyplot automatically assigns a color to each line, but you can, if you like, assign your own colors. We add a legend with the symbol names and also add labels for the axes. Finally, with plt.savefig the figure is written to a file.\n",
      "\n",
      "A problem with the previous figure is that the high share price of GOOG dominates. It is difficult to see what's going on with the other equities. Also, as an investor, you really want to see relative, or normalized price moves. Here's how to normalize the data:"
     ]
    },
    {
     "cell_type": "code",
     "collapsed": false,
     "input": [
      "na_normalized_price = na_price / na_price[0, :]"
     ],
     "language": "python",
     "metadata": {},
     "outputs": [],
     "prompt_number": 5
    },
    {
     "cell_type": "raw",
     "metadata": {},
     "source": [
      "The line of code above nicely illustrates how effective Python (with NumPy) can be. In that single line of code we executed 2000 divide operations. Each row in pricedat was divided by the first row of pricedat. Thus normalizing the data with respect to the first day's price. The resulting figure is to the right.\n",
      "\n",
      "Up til now I've shown all of the code. From here forward, I'm only going to show what's important or relevant. So I'm not repeating the code for plotting. You can see it in the source code that referenced at the beginning of this tutorial."
     ]
    },
    {
     "cell_type": "markdown",
     "metadata": {},
     "source": [
      "It is very often useful to look at the returns by day for individual stocks. The general equation for daily return on day t is:\n",
      "ret(t) = (price(t)/price(t-1)) -1\n",
      "We can compute this in Python all at once as using the builtin QSTK function returnize0:"
     ]
    },
    {
     "cell_type": "code",
     "collapsed": false,
     "input": [
      "na_rets = na_normalized_price.copy()\n",
      "tsu.returnize0(na_rets)"
     ],
     "language": "python",
     "metadata": {},
     "outputs": [
      {
       "metadata": {},
       "output_type": "pyout",
       "prompt_number": 7,
       "text": [
        "array([[  0.00000000e+00,   0.00000000e+00,   0.00000000e+00,\n",
        "          0.00000000e+00,   0.00000000e+00],\n",
        "       [  2.95579739e-03,   3.38855422e-03,   2.29993337e-02,\n",
        "          3.67276166e-03,   1.78323757e-03],\n",
        "       [ -7.90354990e-03,  -1.80112570e-02,   1.34758782e-02,\n",
        "          1.57052440e-05,  -4.94462025e-03],\n",
        "       ..., \n",
        "       [  2.44362647e-03,   1.62938824e-02,  -5.74388260e-03,\n",
        "          7.71347233e-04,   5.57222460e-03],\n",
        "       [ -5.55418415e-04,   3.57090803e-03,   3.47291792e-03,\n",
        "          1.00912984e-03,  -5.68343279e-04],\n",
        "       [ -5.00154369e-03,  -4.93791301e-03,  -3.56073211e-03,\n",
        "         -1.50819984e-03,  -1.42166619e-04]])"
       ]
      }
     ],
     "prompt_number": 7
    },
    {
     "cell_type": "raw",
     "metadata": {},
     "source": [
      "Scatter plots are a convenient way to assess how similarly two equities move together. In a scatter plot of daily returns the X location of each point represents the return on one day for one stock, and the Y location is the return for another stock. If the cloud of points is arranged roughly in a line we can infer that the equities move together.\n",
      "\n",
      "\n",
      "A scatter plot of $SPX daily returns versus GLD.\n",
      "The figures to the right illustrate the visual difference between two equities that move together (top/blue) and two that are less correlated (bottom/red). What do the shapes of the point clouds tell you about these relationships?\n",
      "The figure at the top was created with the following line of code:"
     ]
    },
    {
     "cell_type": "code",
     "collapsed": false,
     "input": [
      "plt.scatter(na_rets[:, 3], na_rets[:, 1], c='blue')\n"
     ],
     "language": "python",
     "metadata": {},
     "outputs": [
      {
       "metadata": {},
       "output_type": "pyout",
       "prompt_number": 8,
       "text": [
        "<matplotlib.collections.PathCollection at 0x7f786c95e450>"
       ]
      }
     ],
     "prompt_number": 8
    },
    {
     "cell_type": "raw",
     "metadata": {},
     "source": [
      "Using the daily returns we can reconstruct cumulative daily returns. Note that in general the cumulative daily return for day t is defined as follows (this is NOT Python code, it is an equation):"
     ]
    },
    {
     "cell_type": "code",
     "collapsed": false,
     "input": [
      "daily_cum_ret(t) = daily_cum_ret(t-1) * (1 + daily_ret(t))\n"
     ],
     "language": "python",
     "metadata": {},
     "outputs": [
      {
       "ename": "SyntaxError",
       "evalue": "can't assign to function call (<ipython-input-9-addb2b0b0209>, line 1)",
       "output_type": "pyerr",
       "traceback": [
        "\u001b[0;36m  File \u001b[0;32m\"<ipython-input-9-addb2b0b0209>\"\u001b[0;36m, line \u001b[0;32m1\u001b[0m\n\u001b[0;31m    daily_cum_ret(t) = daily_cum_ret(t-1) * (1 + daily_ret(t))\u001b[0m\n\u001b[0;31mSyntaxError\u001b[0m\u001b[0;31m:\u001b[0m can't assign to function call\n"
       ]
      }
     ],
     "prompt_number": 9
    },
    {
     "cell_type": "code",
     "collapsed": false,
     "input": [],
     "language": "python",
     "metadata": {},
     "outputs": []
    }
   ],
   "metadata": {}
  }
 ]
}