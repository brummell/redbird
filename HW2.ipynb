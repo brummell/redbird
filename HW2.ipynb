{
 "metadata": {
  "name": ""
 },
 "nbformat": 3,
 "nbformat_minor": 0,
 "worksheets": [
  {
   "cells": [
    {
     "cell_type": "code",
     "collapsed": false,
     "input": [
      "import pandas as pd\n",
      "import numpy as np\n",
      "import math\n",
      "import copy\n",
      "import QSTK.qstkutil.qsdateutil as du\n",
      "import datetime as dt\n",
      "import QSTK.qstkutil.DataAccess as da\n",
      "import QSTK.qstkutil.tsutil as tsu\n",
      "import QSTK.qstkstudy.EventProfiler as ep\n"
     ],
     "language": "python",
     "metadata": {},
     "outputs": [],
     "prompt_number": 1
    },
    {
     "cell_type": "code",
     "collapsed": false,
     "input": [
      "\"\"\"\n",
      "Accepts a list of symbols along with start and end date\n",
      "Returns the Event Matrix which is a pandas Datamatrix\n",
      "Event matrix has the following structure :\n",
      "    |IBM |GOOG|XOM |MSFT| GS | JP |\n",
      "(d1)|nan |nan | 1  |nan |nan | 1  |\n",
      "(d2)|nan | 1  |nan |nan |nan |nan |\n",
      "(d3)| 1  |nan | 1  |nan | 1  |nan |\n",
      "(d4)|nan |  1 |nan | 1  |nan |nan |\n",
      "...................................\n",
      "...................................\n",
      "Also, d1 = start date\n",
      "nan = no information about any event.\n",
      "1 = status bit(positively confirms the event occurence)\n",
      "\"\"\""
     ],
     "language": "python",
     "metadata": {},
     "outputs": [
      {
       "metadata": {},
       "output_type": "pyout",
       "prompt_number": 2,
       "text": [
        "'\\nAccepts a list of symbols along with start and end date\\nReturns the Event Matrix which is a pandas Datamatrix\\nEvent matrix has the following structure :\\n    |IBM |GOOG|XOM |MSFT| GS | JP |\\n(d1)|nan |nan | 1  |nan |nan | 1  |\\n(d2)|nan | 1  |nan |nan |nan |nan |\\n(d3)| 1  |nan | 1  |nan | 1  |nan |\\n(d4)|nan |  1 |nan | 1  |nan |nan |\\n...................................\\n...................................\\nAlso, d1 = start date\\nnan = no information about any event.\\n1 = status bit(positively confirms the event occurence)\\n'"
       ]
      }
     ],
     "prompt_number": 2
    },
    {
     "cell_type": "code",
     "collapsed": false,
     "input": [
      "#vectorized\n",
      "def find_events(ls_symbols, d_data):\n",
      "    ''' Finding the event dataframe '''\n",
      "    df_close = d_data['close']\n",
      "    ts_market = df_close['SPY']\n",
      "\n",
      "    print \"Finding Events\"\n",
      "\n",
      "    # Creating an empty dataframe\n",
      "    df_events = copy.deepcopy(df_close)\n",
      "    df_events = df_events * np.NAN\n",
      "\n",
      "    # Time stamps for the event range\n",
      "    ldt_timestamps = df_close.index\n",
      "\n",
      "    for s_sym in ls_symbols:\n",
      "\t#for looped symbol create arrays for market and symbol price and return, respectively\n",
      "        na_symprice = np.array(df_close[s_sym])\n",
      "        na_marketprice = np.array(ts_market)\n",
      "        na_symreturn = np.append([0], np.diff(na_symprice) / na_symprice[0:-1])\n",
      "        na_marketreturn = np.append([0], np.diff(na_marketprice) / na_marketprice[0:-1])\n",
      "        \n",
      "\t#define boolean arrays for both conditions, put together and find events for both are true\n",
      "        cond1 = na_symreturn<=-0.03\n",
      "        cond2 = na_marketreturn>=0.02\n",
      "        condx = np.array([cond1, cond2])\n",
      "        events = np.where(np.all(condx, axis=0))\n",
      "        \n",
      "\t#get timestamps for events and put results in events dataframe\n",
      "        ldt_events = ldt_timestamps[events]\n",
      "        df_events[s_sym][ldt_events] = 1\n",
      "\n",
      "    return df_events\n"
     ],
     "language": "python",
     "metadata": {},
     "outputs": [],
     "prompt_number": 3
    },
    {
     "cell_type": "code",
     "collapsed": false,
     "input": [
      "if __name__ == '__main__':\n",
      "    dt_start = dt.datetime(2008, 1, 1)\n",
      "    dt_end = dt.datetime(2009, 12, 31)\n",
      "    ldt_timestamps = du.getNYSEdays(dt_start, dt_end, dt.timedelta(hours=16))\n",
      "\n",
      "    dataobj = da.DataAccess('Yahoo')\n",
      "    ls_symbols = dataobj.get_symbols_from_list('sp5002012')\n",
      "    ls_symbols.append('SPY')\n",
      "        \n",
      "    ls_keys = ['open', 'high', 'low', 'close', 'volume', 'actual_close']\n",
      "    ldf_data = dataobj.get_data(ldt_timestamps, ls_symbols, ls_keys)\n",
      "    d_data = dict(zip(ls_keys, ldf_data))\n",
      "\n",
      "    for s_key in ls_keys:\n",
      "         d_data[s_key] = d_data[s_key].fillna(method='ffill')\n",
      "         d_data[s_key] = d_data[s_key].fillna(method='bfill')\n",
      "         d_data[s_key] = d_data[s_key].fillna(1.0)\n",
      "\n",
      "    df_events = orig_find_events(ls_symbols, d_data)\n",
      "    print \"Creating Study\"\n",
      "    ep.eventprofiler(df_events, d_data, i_lookback=20, i_lookforward=20,\n",
      "                s_filename='MyEventStudy.pdf', b_market_neutral=True, b_errorbars=True,\n",
      "                s_market_sym='SPY')\n"
     ],
     "language": "python",
     "metadata": {},
     "outputs": [
      {
       "output_type": "stream",
       "stream": "stdout",
       "text": [
        "Finding Events\n",
        "Creating Study"
       ]
      }
     ],
     "prompt_number": "*"
    },
    {
     "cell_type": "code",
     "collapsed": false,
     "input": [
      "2012-193"
     ],
     "language": "python",
     "metadata": {},
     "outputs": []
    },
    {
     "cell_type": "code",
     "collapsed": false,
     "input": [
      "def orig_find_events(ls_symbols, d_data):\n",
      "    ''' Finding the event dataframe '''\n",
      "    df_close = d_data['actual_close']\n",
      "    ts_market = df_close['SPY']\n",
      "\n",
      "    print \"Finding Events\"\n",
      "\n",
      "    # Creating an empty dataframe\n",
      "    df_events = copy.deepcopy(df_close)\n",
      "    df_events = df_events * np.NAN\n",
      "\n",
      "    # Time stamps for the event range\n",
      "    ldt_timestamps = df_close.index\n",
      "\n",
      "    for s_sym in ls_symbols:\n",
      "        for i in range(1, len(ldt_timestamps)):\n",
      "            # Calculating the returns for this timestamp\n",
      "            f_symprice_today = df_close[s_sym].ix[ldt_timestamps[i]]\n",
      "            f_symprice_yest = df_close[s_sym].ix[ldt_timestamps[i - 1]]\n",
      "            f_marketprice_today = ts_market.ix[ldt_timestamps[i]]\n",
      "            f_marketprice_yest = ts_market.ix[ldt_timestamps[i - 1]]\n",
      "            f_symreturn_today = (f_symprice_today / f_symprice_yest) - 1\n",
      "            f_marketreturn_today = (f_marketprice_today / f_marketprice_yest) - 1\n",
      "\n",
      "            # Event is found if the symbol is down more then 3% while the\n",
      "            # market is up more then 2%\n",
      "            if f_symprice_today < 7.0 and f_symprice_yest >= 7.0:\n",
      "                df_events[s_sym].ix[ldt_timestamps[i]] = 1\n",
      "\n",
      "    return df_events"
     ],
     "language": "python",
     "metadata": {},
     "outputs": [],
     "prompt_number": 21
    },
    {
     "cell_type": "code",
     "collapsed": false,
     "input": [
      "# def orig_find_events(ls_symbols, d_data):\n",
      "#     ''' Finding the event dataframe '''\n",
      "#     df_close = d_data['close']\n",
      "#     ts_market = df_close['SPY']\n",
      "\n",
      "#     print \"Finding Events\"\n",
      "\n",
      "#     # Creating an empty dataframe\n",
      "#     df_events = copy.deepcopy(df_close)\n",
      "#     df_events = df_events * np.NAN\n",
      "\n",
      "#     # Time stamps for the event range\n",
      "#     ldt_timestamps = df_close.index\n",
      "\n",
      "#     for s_sym in ls_symbols:\n",
      "#         for i in range(1, len(ldt_timestamps)):\n",
      "#             # Calculating the returns for this timestamp\n",
      "#             f_symprice_today = df_close[s_sym].ix[ldt_timestamps[i]]\n",
      "#             f_symprice_yest = df_close[s_sym].ix[ldt_timestamps[i - 1]]\n",
      "#             f_marketprice_today = ts_market.ix[ldt_timestamps[i]]\n",
      "#             f_marketprice_yest = ts_market.ix[ldt_timestamps[i - 1]]\n",
      "#             f_symreturn_today = (f_symprice_today / f_symprice_yest) - 1\n",
      "#             f_marketreturn_today = (f_marketprice_today / f_marketprice_yest) - 1\n",
      "\n",
      "#             # Event is found if the symbol is down more then 3% while the\n",
      "#             # market is up more then 2%\n",
      "#             if f_symreturn_today <= -0.03 and f_marketreturn_today >= 0.02:\n",
      "#                 df_events[s_sym].ix[ldt_timestamps[i]] = 1\n",
      "\n",
      "#     return df_events\n"
     ],
     "language": "python",
     "metadata": {},
     "outputs": [],
     "prompt_number": 6
    },
    {
     "cell_type": "code",
     "collapsed": false,
     "input": [],
     "language": "python",
     "metadata": {},
     "outputs": []
    }
   ],
   "metadata": {}
  }
 ]
}